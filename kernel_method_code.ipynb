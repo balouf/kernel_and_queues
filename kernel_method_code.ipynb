{
 "cells": [
  {
   "cell_type": "markdown",
   "metadata": {},
   "source": [
    "# Of Kernels and Queues: when network calculus meets analytics combinatorics"
   ]
  },
  {
   "cell_type": "markdown",
   "metadata": {},
   "source": [
    "This notebook provides the companion code for <a href=\"https://doi.org/10.1109/ITC30.2018.10061\">the eponym article</a>. Please refer to the main article for all details."
   ]
  },
  {
   "cell_type": "markdown",
   "metadata": {
    "heading_collapsed": true
   },
   "source": [
    "# Settings"
   ]
  },
  {
   "cell_type": "code",
   "execution_count": 1,
   "metadata": {
    "ExecuteTime": {
     "end_time": "2019-10-23T18:26:39.201648Z",
     "start_time": "2019-10-23T18:26:31.967521Z"
    },
    "hidden": true
   },
   "outputs": [
    {
     "data": {
      "text/plain": [
       "{'divide': 'warn', 'over': 'warn', 'under': 'ignore', 'invalid': 'warn'}"
      ]
     },
     "execution_count": 1,
     "metadata": {},
     "output_type": "execute_result"
    }
   ],
   "source": [
    "import numpy as np\n",
    "from numba import njit, jit\n",
    "\n",
    "from scipy import optimize\n",
    "from scipy.misc import derivative\n",
    "from scipy.special import binom\n",
    "\n",
    "import matplotlib.pyplot as plt\n",
    "\n",
    "import pandas as pd\n",
    "\n",
    "np.seterr(all='raise')"
   ]
  },
  {
   "cell_type": "markdown",
   "metadata": {
    "heading_collapsed": true
   },
   "source": [
    "# Distributions"
   ]
  },
  {
   "cell_type": "markdown",
   "metadata": {
    "hidden": true
   },
   "source": [
    "The paper is evaluated on bimodal distributions"
   ]
  },
  {
   "cell_type": "code",
   "execution_count": 2,
   "metadata": {
    "ExecuteTime": {
     "end_time": "2019-10-23T18:26:39.221595Z",
     "start_time": "2019-10-23T18:26:39.212617Z"
    },
    "hidden": true
   },
   "outputs": [],
   "source": [
    "def bimodal(λ, Amax):\n",
    "    \"\"\"\n",
    "    Returns an array that represents a bimodal distribution (p_0 / P_Amax), with arrival rate λ\n",
    "    \"\"\"\n",
    "    A = np.zeros(Amax+1)\n",
    "    A[Amax] = λ / Amax\n",
    "    A[0] = 1 - λ / Amax\n",
    "    return A"
   ]
  },
  {
   "cell_type": "markdown",
   "metadata": {
    "hidden": true
   },
   "source": [
    "A binomial distribution could be used as well."
   ]
  },
  {
   "cell_type": "code",
   "execution_count": 3,
   "metadata": {
    "ExecuteTime": {
     "end_time": "2019-10-23T18:26:41.028178Z",
     "start_time": "2019-10-23T18:26:41.020199Z"
    },
    "hidden": true
   },
   "outputs": [],
   "source": [
    "def binomiale(p, n):\n",
    "    \"\"\"\n",
    "    returns an array that represents a binomial distribution (p , n), with arrival rate λ = np\n",
    "    \"\"\"\n",
    "    A = np.zeros(n+1)\n",
    "    for i in range(n+1):\n",
    "        A[i] = binom(n,i) * p**i * (1-p)**(n-i)\n",
    "    return A"
   ]
  },
  {
   "cell_type": "markdown",
   "metadata": {
    "heading_collapsed": true
   },
   "source": [
    "# Auxiliary functions"
   ]
  },
  {
   "cell_type": "markdown",
   "metadata": {
    "hidden": true
   },
   "source": [
    "Save results to CSV"
   ]
  },
  {
   "cell_type": "code",
   "execution_count": 4,
   "metadata": {
    "ExecuteTime": {
     "end_time": "2019-10-23T18:26:43.759649Z",
     "start_time": "2019-10-23T18:26:43.752694Z"
    },
    "hidden": true
   },
   "outputs": [],
   "source": [
    "def save_data(filename, R, doobs, noyau, simu):\n",
    "    csv = pd.DataFrame({'R': R, 'doobs': doobs, 'noyau': noyau, 'simu': simu})\n",
    "    csv.to_csv(filename+\".csv\", index=False)    "
   ]
  },
  {
   "cell_type": "markdown",
   "metadata": {
    "hidden": true
   },
   "source": [
    "Jitted 2D-convolution that allows to consider two joint arrivals in two queues. Slower than FFT for full convolutions, but the distributions in the paper are sparse so a jitted approach is interesting."
   ]
  },
  {
   "cell_type": "code",
   "execution_count": 5,
   "metadata": {
    "ExecuteTime": {
     "end_time": "2019-10-23T18:26:46.418659Z",
     "start_time": "2019-10-23T18:26:46.405693Z"
    },
    "hidden": true
   },
   "outputs": [],
   "source": [
    "@njit()\n",
    "def my_conv2d(XY, AB):\n",
    "    m, n = XY.shape\n",
    "    k, l = AB.shape\n",
    "    NXY = np.zeros((m+k-1, n+l-1))\n",
    "    for i in range(k):\n",
    "        for j in range(l):\n",
    "            if AB[i, j] != 0:\n",
    "                NXY[i:(m+i), j:(n+j)] += XY * AB[i, j]\n",
    "    return NXY"
   ]
  },
  {
   "cell_type": "markdown",
   "metadata": {
    "hidden": true
   },
   "source": [
    "Generating function associated with an arrival distribution $A$, derivative of the generating function, expected value of the arrival."
   ]
  },
  {
   "cell_type": "code",
   "execution_count": 6,
   "metadata": {
    "ExecuteTime": {
     "end_time": "2019-10-23T18:26:55.317978Z",
     "start_time": "2019-10-23T18:26:55.308041Z"
    },
    "hidden": true
   },
   "outputs": [],
   "source": [
    "def gen(A):\n",
    "    n = np.arange(len(A))\n",
    "    return lambda x: np.sum(A * (x**n))\n",
    "\n",
    "def dev(A):\n",
    "    n = np.arange(1,len(A))\n",
    "    return lambda x: np.sum(n * A[1:] * (x**(n-1)))\n",
    "\n",
    "# To find back λ\n",
    "def E(A):\n",
    "    return sum(A * np.arange(len(A)))"
   ]
  },
  {
   "cell_type": "markdown",
   "metadata": {
    "hidden": true
   },
   "source": [
    "A simple golden search implementation to find minimal value between $a$ and $b$ for a unimodal function. Loosely adapted from https://en.wikipedia.org/wiki/Golden-section_search."
   ]
  },
  {
   "cell_type": "code",
   "execution_count": 7,
   "metadata": {
    "ExecuteTime": {
     "end_time": "2019-10-23T18:26:57.348316Z",
     "start_time": "2019-10-23T18:26:57.329368Z"
    },
    "hidden": true
   },
   "outputs": [],
   "source": [
    "invphi = (np.math.sqrt(5) - 1) / 2 # 1/phi\n",
    "invphi2 = (3 - np.math.sqrt(5)) / 2 # 1/phi^2\n",
    "\n",
    "def gss(f,a,b):\n",
    "    (a,b)=(min(a,b),max(a,b))\n",
    "    h = b - a\n",
    "\n",
    "    c = a + invphi2 * h\n",
    "    d = a + invphi * h\n",
    "    yc = f(c)\n",
    "    yd = f(d)\n",
    "    ϵ = 1\n",
    "    i=1000\n",
    "    while ϵ>0:\n",
    "        if yc < yd:\n",
    "            b = d\n",
    "            d = c\n",
    "            yd = yc\n",
    "            h = invphi * h\n",
    "            c = a + invphi2 * h\n",
    "            yc = f(c)\n",
    "            ϵ = d - a\n",
    "        else:\n",
    "            a = c\n",
    "            c = d\n",
    "            yc = yd\n",
    "            h = invphi * h\n",
    "            d = a + invphi * h\n",
    "            yd = f(d)\n",
    "            ϵ = b - c\n",
    "        i -= 1\n",
    "        if i == 0:\n",
    "            break\n",
    "    if yc < yd:\n",
    "        return a\n",
    "    else:\n",
    "        return c"
   ]
  },
  {
   "cell_type": "markdown",
   "metadata": {
    "hidden": true
   },
   "source": [
    "A simple dichotomy implementation to find the root of an increasing function."
   ]
  },
  {
   "cell_type": "code",
   "execution_count": 8,
   "metadata": {
    "ExecuteTime": {
     "end_time": "2019-10-23T18:26:59.142805Z",
     "start_time": "2019-10-23T18:26:59.133834Z"
    },
    "hidden": true
   },
   "outputs": [],
   "source": [
    "def dicho(f, a, b):\n",
    "    ϵ = 1\n",
    "    i = 10000\n",
    "    while ϵ > 0:\n",
    "        c = (a+b) / 2\n",
    "        if f(c) > 0:\n",
    "            b = c\n",
    "        else:\n",
    "            a = c\n",
    "        ϵ /= 2\n",
    "        i -= 1\n",
    "        if i == 0:\n",
    "            break\n",
    "    return c"
   ]
  },
  {
   "cell_type": "markdown",
   "metadata": {
    "hidden": true
   },
   "source": [
    "Find the right root of a unimodal function $f(x)-x$ which has a negative minimum value, knowing that the left root is smaller than or equal to 1 (cf Figure 1 in the article).\n",
    "- Find a value $M>1$ for which the function is positive\n",
    "- Use a golden search to locate the minimum $x$\n",
    "- The function is increasing in $[m, M]$, so a dichotomy finds the root"
   ]
  },
  {
   "cell_type": "code",
   "execution_count": 9,
   "metadata": {
    "ExecuteTime": {
     "end_time": "2019-10-23T18:27:01.439458Z",
     "start_time": "2019-10-23T18:27:01.430457Z"
    },
    "hidden": true
   },
   "outputs": [],
   "source": [
    "def second_root(f):\n",
    "    '''Finds the second solution of x=f(x), which is assumed to be greater than 1'''\n",
    "    g = lambda z: f(z) - z\n",
    "    M = 2.0\n",
    "    while g(M) <= 0:\n",
    "        M *= 2\n",
    "    m = gss(g, 1, M)\n",
    "    return dicho(g, m, M)"
   ]
  },
  {
   "cell_type": "markdown",
   "metadata": {
    "hidden": true
   },
   "source": [
    "Build Complementary Cumulative Distribution Function."
   ]
  },
  {
   "cell_type": "code",
   "execution_count": 10,
   "metadata": {
    "ExecuteTime": {
     "end_time": "2019-10-23T18:27:18.767536Z",
     "start_time": "2019-10-23T18:27:18.761550Z"
    },
    "hidden": true
   },
   "outputs": [],
   "source": [
    "def make_CCDF(x):\n",
    "    y = 1 - np.cumsum(x)\n",
    "    y = np.roll(y, 1)\n",
    "    y[0] = 1\n",
    "    return y"
   ]
  },
  {
   "cell_type": "markdown",
   "metadata": {
    "hidden": true
   },
   "source": [
    "Display and save results in the way used in the article, where the kernel method can always express the asymptotic behavior as CCDF as $P(X\\geq R)\\approx K\\beta^{-R}$."
   ]
  },
  {
   "cell_type": "code",
   "execution_count": 11,
   "metadata": {
    "ExecuteTime": {
     "end_time": "2019-10-23T18:27:30.472723Z",
     "start_time": "2019-10-23T18:27:30.459791Z"
    },
    "hidden": true
   },
   "outputs": [],
   "source": [
    "def plot_kernel(β, K, simu, description, xm=20, ym=1e-4):\n",
    "    xmax = len(simu)\n",
    "    R = np.arange(xmax)\n",
    "    doobs = β**(-R)\n",
    "    kernel = K * doobs\n",
    "    doobs *= β\n",
    "    plt.xlim([0, xm])\n",
    "    plt.ylim([ym, 1])\n",
    "    plt.semilogy(R, doobs, label=\"$\\\\beta^{-R}$\")\n",
    "    plt.semilogy(R, kernel, label='Kernel')\n",
    "    plt.semilogy(R, simu[:xmax], label='Simulation')\n",
    "    save_data(description, R, doobs, kernel, simu)\n",
    "    plt.legend()\n",
    "    plt.show()"
   ]
  },
  {
   "cell_type": "markdown",
   "metadata": {
    "heading_collapsed": true
   },
   "source": [
    "# Single Server Queue"
   ]
  },
  {
   "cell_type": "markdown",
   "metadata": {
    "heading_collapsed": true,
    "hidden": true
   },
   "source": [
    "## Simulation"
   ]
  },
  {
   "cell_type": "markdown",
   "metadata": {
    "hidden": true
   },
   "source": [
    "We remind that the system is considered in a slotted manner. Each slot is placed just after packets have arrived and before the server(s) process(es) any packet. Thus, to deduce one slot from the other, one needs to first serve packets, then make new arrivals."
   ]
  },
  {
   "cell_type": "markdown",
   "metadata": {
    "hidden": true
   },
   "source": [
    "The simulation will compute the evolution of the probability distribution, starting from an initial state where queue is empty, until a convergence criterium is met."
   ]
  },
  {
   "cell_type": "code",
   "execution_count": 12,
   "metadata": {
    "ExecuteTime": {
     "end_time": "2019-10-23T18:27:44.682497Z",
     "start_time": "2019-10-23T18:27:44.666575Z"
    },
    "hidden": true
   },
   "outputs": [],
   "source": [
    "@njit()\n",
    "def simu_simple(A, Xmax=200, ϵ=10**(-12)):\n",
    "    \"\"\"\n",
    "    Fixed-point computation of the system distribution.\n",
    "    - Pop one paquet (shift X)\n",
    "    - Add new packets using convolution with A\n",
    "    - Packets above Xmax are dropped\n",
    "    \"\"\"\n",
    "    old_X = np.zeros(Xmax+1)\n",
    "    X = np.zeros(Xmax+1)\n",
    "    X[0] = 1\n",
    "    while (np.sum(np.abs(old_X-X))) > ϵ:\n",
    "        old_X = X.copy()\n",
    "        # We serve a packet\n",
    "        X[0:-1] = X[1:]\n",
    "        X[-1] = 0\n",
    "        X[0] += 1 - np.sum(X)\n",
    "        # New packets arrive\n",
    "        X = np.convolve(X, A)[0:(Xmax+1)]\n",
    "        X[-1] += 1 - np.sum(X)    \n",
    "    return X"
   ]
  },
  {
   "cell_type": "markdown",
   "metadata": {
    "heading_collapsed": true,
    "hidden": true
   },
   "source": [
    "## Numerical evaluation of the Kernel method"
   ]
  },
  {
   "cell_type": "markdown",
   "metadata": {
    "hidden": true
   },
   "source": [
    "The paper gives the formula\n",
    "\n",
    "$$P(X_t \\geq R) \\sim (1-E[A])\\frac{\\beta}{A'(\\beta)-1} \\beta^{-R},$$\n",
    "\n",
    "where $\\beta$ is the second solution of $x = A(x)$"
   ]
  },
  {
   "cell_type": "code",
   "execution_count": 13,
   "metadata": {
    "ExecuteTime": {
     "end_time": "2019-10-23T18:27:48.405657Z",
     "start_time": "2019-10-23T18:27:48.398676Z"
    },
    "hidden": true
   },
   "outputs": [],
   "source": [
    "def kernel_simple(A):\n",
    "    β = second_root(gen(A))\n",
    "    K = (1-E(A)) * β / (dev(A)(β)-1)\n",
    "    return β, K"
   ]
  },
  {
   "cell_type": "markdown",
   "metadata": {
    "heading_collapsed": true,
    "hidden": true
   },
   "source": [
    "## Display"
   ]
  },
  {
   "cell_type": "code",
   "execution_count": 14,
   "metadata": {
    "ExecuteTime": {
     "end_time": "2019-10-23T18:27:54.727118Z",
     "start_time": "2019-10-23T18:27:51.923852Z"
    },
    "hidden": true
   },
   "outputs": [
    {
     "data": {
      "image/png": "[encoded data removed]",
      "text/plain": [
       "<Figure size 432x288 with 1 Axes>"
      ]
     },
     "metadata": {
      "needs_background": "light"
     },
     "output_type": "display_data"
    }
   ],
   "source": [
    "λ = .4\n",
    "burst = 6\n",
    "A = bimodal(λ, burst)\n",
    "β, K = kernel_simple(A)\n",
    "simu = make_CCDF(simu_simple(A, 200))\n",
    "description = \"single_server_λ_%s_bimodal_%s\" % (λ, burst)\n",
    "plot_kernel(β, K, simu, description, xm=19, ym=1e-2)"
   ]
  },
  {
   "cell_type": "markdown",
   "metadata": {
    "heading_collapsed": true
   },
   "source": [
    "# Two flows with priority"
   ]
  },
  {
   "cell_type": "markdown",
   "metadata": {
    "heading_collapsed": true,
    "hidden": true
   },
   "source": [
    "## Simulation"
   ]
  },
  {
   "cell_type": "markdown",
   "metadata": {
    "hidden": true
   },
   "source": [
    "We are still just after packets arrive and before they are served."
   ]
  },
  {
   "cell_type": "markdown",
   "metadata": {
    "hidden": true
   },
   "source": [
    "As we have two dependent flows, we store their distribution in a matrix $XY$. $XY[i,j]$ is the probability to be in state $(i, j)$.\n",
    "\n",
    "The update is made as follows:\n",
    "- We serve one $Y$ for the states where $X$ is empty (cf. paper):\n",
    " - ``T0=XY[0,0]`` (remind full empty probability)\n",
    " - ``XY[0, 0:-1] = X[0,1:]`` (shift $Y$ by one)\n",
    " - ``X[0,0]+=T0`` (update full empty probability)\n",
    " - ``X[0,-1]=0`` (clean right side of the shift)\n",
    "- We serve one $X$:\n",
    " - ``TX = X[0,:].copy()`` (remind when $X$ is empty)\n",
    " - ``X[0:-1,:] = X[1:,:]`` (shift $X$ by one)\n",
    " - ``X[0,:]+=TX`` (update $X$ empty)\n",
    " - ``X[-1,:]=0`` (right side of the shift)\n",
    "- Use 2D convolution for packet arrivals."
   ]
  },
  {
   "cell_type": "code",
   "execution_count": 15,
   "metadata": {
    "ExecuteTime": {
     "end_time": "2019-10-23T18:28:01.577067Z",
     "start_time": "2019-10-23T18:28:01.554128Z"
    },
    "hidden": true
   },
   "outputs": [],
   "source": [
    "@njit()\n",
    "def simu_two_flows(A, B, Xmax=200, ϵ=10**(-9)):\n",
    "    \"\"\"\n",
    "    Fixed-point computation of the stationary distribution.\n",
    "    - Pop one Y if X empty: T0=XY[0,0], XY[0, 0:-1] = X[0,1:], X[0,0]+=T0, X[0,-1]=0,\n",
    "    - Pop one X : TX = X[0,:], X[0:-1,:] = X[1:,:], X[0,:]+=TX, X[-1,:]=0\n",
    "    - Use convolution to for packet injection.\n",
    "    - Trim and normalize to avoid drifts\n",
    "    \"\"\"\n",
    "    AB = np.dot(A.reshape((len(A),1)), B.reshape((1,len(B))))\n",
    "    old_XY = np.zeros((Xmax, Xmax))\n",
    "    XY = np.zeros((Xmax, Xmax))\n",
    "    XY[0,0] = 1\n",
    "    while (np.sum(np.abs(old_XY-XY))) > ϵ:\n",
    "        old_XY = XY.copy()\n",
    "        # Pop one Y if X is empty\n",
    "        T0 = XY[0, 0]\n",
    "        XY[0, 0:-1] = XY[0, 1:]\n",
    "        XY[0, -1] = 0\n",
    "        XY[0,0] += T0\n",
    "        # Pop one X\n",
    "        T1 = XY[0,:].copy()\n",
    "        XY[0:-1, :] = XY[1:, :]\n",
    "        XY[0,:] += T1\n",
    "        XY[-1,:] = 0\n",
    "        # New arrivals\n",
    "        XY = my_conv2d(XY, AB)\n",
    "        # Drop packets above X capacity\n",
    "        XY[Xmax-1, :] += np.sum(XY[Xmax:, :], axis=0)\n",
    "        # Drop packets above Y capacity\n",
    "        XY[:, Xmax-1] += np.sum(XY[:, Xmax:], axis=1)\n",
    "        # Trim\n",
    "        XY = XY[:Xmax, :Xmax]\n",
    "        # Report drift errors on empty state\n",
    "        XY[0, 0] += 1 - np.sum(XY)\n",
    "    # Project on Y to give result (X is unaware of Y and can be computed using first formula)\n",
    "    return np.sum(XY, axis=0)"
   ]
  },
  {
   "cell_type": "markdown",
   "metadata": {
    "heading_collapsed": true,
    "hidden": true
   },
   "source": [
    "## Kernel"
   ]
  },
  {
   "cell_type": "markdown",
   "metadata": {
    "hidden": true
   },
   "source": [
    "For the two flows, we need to solve:\n",
    "\n",
    "\n",
    "$$P(Y_t\\geq R) \\sim \\frac{ B(\\gamma)(\\gamma-1)(1-E[A + B])}{(1-B(\\gamma))  (1-B'(\\gamma)T'_A(B(\\gamma)))} \\gamma^{-R}.$$"
   ]
  },
  {
   "cell_type": "markdown",
   "metadata": {
    "hidden": true
   },
   "source": [
    " $T_A(x)$ associates with $x$ the solution of $y = xA(y)$"
   ]
  },
  {
   "cell_type": "markdown",
   "metadata": {
    "hidden": true
   },
   "source": [
    " \n",
    " $\\gamma$ is the largest solution of $v=T_A(B(v))$"
   ]
  },
  {
   "cell_type": "code",
   "execution_count": 16,
   "metadata": {
    "ExecuteTime": {
     "end_time": "2019-10-23T18:28:04.636138Z",
     "start_time": "2019-10-23T18:28:04.619157Z"
    },
    "hidden": true
   },
   "outputs": [],
   "source": [
    "def TA(A):\n",
    "    def f(x):\n",
    "        y = 0\n",
    "        i = 500\n",
    "        yn = x * gen(A)(y)\n",
    "        while y != yn:\n",
    "            y = yn\n",
    "            yn = x * gen(A)(y)\n",
    "            i -= 1\n",
    "            # We don't need accuracy for large value.\n",
    "            # The trick below avoids throwing error when we are above the convergence radius.\n",
    "            if (i == 0) or (yn-x >= 2):\n",
    "                return 2 + (x+1)**2\n",
    "        return yn\n",
    "    return f\n",
    "            \n",
    "\n",
    "def γAB(A, B):\n",
    "    return second_root(lambda x: TA(A)(gen(B)(x)))\n",
    "\n",
    "def kernel_two_flows(A, B):\n",
    "    γ = γAB(A, B)\n",
    "    Tprime = derivative(lambda x: TA(A)(x), gen(B)(γ), dx = 1e-6)\n",
    "    K = gen(B)(γ) * (γ-1) * (1-E(A)-E(B)) / (1-gen(B)(γ)) / (1-dev(B)(γ)*Tprime)\n",
    "    return γ, K  "
   ]
  },
  {
   "cell_type": "markdown",
   "metadata": {
    "heading_collapsed": true,
    "hidden": true
   },
   "source": [
    "## Display"
   ]
  },
  {
   "cell_type": "code",
   "execution_count": 17,
   "metadata": {
    "ExecuteTime": {
     "end_time": "2019-10-23T18:28:16.966204Z",
     "start_time": "2019-10-23T18:28:06.791214Z"
    },
    "hidden": true
   },
   "outputs": [
    {
     "data": {
      "image/png": "[encoded data removed]",
      "text/plain": [
       "<Figure size 432x288 with 1 Axes>"
      ]
     },
     "metadata": {
      "needs_background": "light"
     },
     "output_type": "display_data"
    }
   ],
   "source": [
    "λA = .4\n",
    "bA = 6\n",
    "λB = .4\n",
    "bB = 1\n",
    "A = bimodal(λA, bA)\n",
    "B = bimodal(λB, bB)\n",
    "β, K = kernel_two_flows(A, B)\n",
    "simu = make_CCDF(simu_two_flows(A, B))\n",
    "description = \"two_flows_λA_%s_bA_%s_λB_%s_bB_%s\" % (λA, bA, λB, bB)\n",
    "plot_kernel(β, K, simu, description, xm = 80, ym=1e-4)"
   ]
  },
  {
   "cell_type": "markdown",
   "metadata": {
    "heading_collapsed": true
   },
   "source": [
    "# Two queues"
   ]
  },
  {
   "cell_type": "markdown",
   "metadata": {
    "heading_collapsed": true,
    "hidden": true
   },
   "source": [
    "## Simulation"
   ]
  },
  {
   "cell_type": "markdown",
   "metadata": {
    "hidden": true
   },
   "source": [
    "As we have two dependent queues, we store their distribution in a matrix $XY$. $XY[i,j]$ is the probability to be in state $(i, j)$.\n",
    "\n",
    "The update is made as follows:\n",
    "- We serve one $Y$ for the states where $X$ is empty (cf paper):\n",
    " - ``T0 = XY[0,0]`` (remind full empty probability)\n",
    " - ``XY[0, 0:-1] = X[0,1:]`` (shift $Y$ by one)\n",
    " - ``X[0,0] += T0`` (update full empty probability)\n",
    " - ``X[0,-1] = 0`` (clean right side of the shift)\n",
    "- We serve one $Y$ for the states where $X$ is not empty and inject add one $X$ packet to $Y$:\n",
    " - ``X[1:, 1] += X[1:, 0]`` (1-1=0, so the only change is that if Y was empty, it now has one packet)\n",
    " - ``X[1:, 0] = 0`` (if $X$ is not empty, $Y$ cannot be empty)\n",
    "- We serve one $X$:\n",
    " - ``TX = X[0,:].copy()`` (remind when $X$ is empty)\n",
    " - ``X[0:-1,:] = X[1:,:]`` (shift $X$ by one)\n",
    " - ``X[0,:] += TX`` (update $X$ empty)\n",
    " - ``X[-1,:] = 0`` (right side of the shift)\n",
    "- Use 2D convolution for packet arrivals."
   ]
  },
  {
   "cell_type": "code",
   "execution_count": 18,
   "metadata": {
    "ExecuteTime": {
     "end_time": "2019-10-23T18:28:32.143591Z",
     "start_time": "2019-10-23T18:28:32.116695Z"
    },
    "hidden": true
   },
   "outputs": [],
   "source": [
    "@njit()\n",
    "def simu_two_queues(A, B, Xmax=200, ϵ=10**(-9)):\n",
    "    \"\"\"\n",
    "    Fixed-point computation of the stationary distribution.\n",
    "    - Pop one Y if X empty: T0=XY[0,0], XY[0, 0:-1] = X[0,1:], X[0,0]+=T0, X[0,-1]=0,\n",
    "    - if X not empty, the pop Y is compensated by the push X\n",
    "      except if Y was empty in case one packet is added: X[1:,1] += X[1:,0], X[1:,0]=0\n",
    "    - Pop one X : TX = X[0,:], X[0:-1,:] = X[1:,:], X[0,:]+=TX, X[-1,:]=0\n",
    "    - Use convolution to for packet injection.\n",
    "    - Trim and normalize to avoid drifts\n",
    "    \"\"\"\n",
    "    AB = np.dot(A.reshape((len(A),1)), B.reshape((1,len(B))))\n",
    "    old_XY = np.zeros((Xmax, Xmax))\n",
    "    XY = np.zeros((Xmax, Xmax))\n",
    "    XY[0,0] = 1\n",
    "    while (np.sum(np.abs(old_XY-XY))) > ϵ:\n",
    "        old_XY = XY.copy()\n",
    "        # Pop Y when X is empty\n",
    "        T0 = XY[0, 0]\n",
    "        XY[0, 0:-1] = XY[0, 1:]\n",
    "        XY[0, -1] = 0\n",
    "        XY[0,0] += T0\n",
    "        # Pop/push Y when X is not empty\n",
    "        XY[1:, 1] += XY[1:, 0]\n",
    "        XY[1:, 0] = 0\n",
    "        # Pop X\n",
    "        T1 = XY[0,:].copy()\n",
    "        XY[0:-1, :] = XY[1:, :]\n",
    "        XY[0,:] += T1\n",
    "        XY[-1,:] = 0\n",
    "        # New arrivals\n",
    "        XY = my_conv2d(XY, AB)\n",
    "        # Drop extra packets\n",
    "        XY[Xmax-1, :] += np.sum(XY[Xmax:, :], axis=0)\n",
    "        XY[:, Xmax-1] += np.sum(XY[:, Xmax:], axis=1)\n",
    "        # Trim\n",
    "        XY = XY[:Xmax, :Xmax]\n",
    "        # Normalize\n",
    "        XY[0, 0] += 1 - np.sum(XY)\n",
    "    # Projection on Y\n",
    "    return np.sum(XY, axis=0)"
   ]
  },
  {
   "cell_type": "markdown",
   "metadata": {
    "heading_collapsed": true,
    "hidden": true
   },
   "source": [
    "## Kernel"
   ]
  },
  {
   "cell_type": "markdown",
   "metadata": {
    "hidden": true
   },
   "source": [
    "For two queues, we need to solve:\n",
    "\n",
    " $$P(Y_t\\geq R) \\sim \\frac{ \\gamma(\\gamma-1)(1-E[A + B])}{(1-B(\\gamma))  (1-B'(\\gamma)T'_A(B(\\gamma))} \\gamma^{-R}.$$"
   ]
  },
  {
   "cell_type": "markdown",
   "metadata": {
    "hidden": true
   },
   "source": [
    " $T_A(x)$ associates with $x$ the solution of $y = xA(y)$"
   ]
  },
  {
   "cell_type": "markdown",
   "metadata": {
    "hidden": true
   },
   "source": [
    " $\\gamma$ is the largest solution of $v=T_A(B(v))$"
   ]
  },
  {
   "cell_type": "code",
   "execution_count": 19,
   "metadata": {
    "ExecuteTime": {
     "end_time": "2019-10-23T18:28:35.894190Z",
     "start_time": "2019-10-23T18:28:35.884243Z"
    },
    "hidden": true
   },
   "outputs": [],
   "source": [
    "def kernel_two_queues(A, B):\n",
    "    γ = γAB(A, B)\n",
    "    Tprime = derivative(lambda x: TA(A)(x), gen(B)(γ), dx=1e-6)\n",
    "    K = γ * (γ-1) * (1-E(A)-E(B)) / (1-gen(B)(γ)) / (1-dev(B)(γ)*Tprime)\n",
    "    return γ, K"
   ]
  },
  {
   "cell_type": "markdown",
   "metadata": {
    "heading_collapsed": true,
    "hidden": true
   },
   "source": [
    "## Display"
   ]
  },
  {
   "cell_type": "code",
   "execution_count": 20,
   "metadata": {
    "ExecuteTime": {
     "end_time": "2019-10-23T18:28:45.503358Z",
     "start_time": "2019-10-23T18:28:38.981385Z"
    },
    "hidden": true
   },
   "outputs": [
    {
     "data": {
      "image/png": "[encoded data removed]",
      "text/plain": [
       "<Figure size 432x288 with 1 Axes>"
      ]
     },
     "metadata": {
      "needs_background": "light"
     },
     "output_type": "display_data"
    }
   ],
   "source": [
    "λA = .4\n",
    "bA = 6\n",
    "λB = .4\n",
    "bB = 1\n",
    "A = bimodal(λA, bA)\n",
    "B = bimodal(λB, bB)\n",
    "β, K = kernel_two_queues(A, B)\n",
    "simu = make_CCDF(simu_two_queues(A, B))\n",
    "description = \"two_queues_λA_%s_bA_%s_λB_%s_bB_%s\" % (λA, bA, λB, bB)\n",
    "plot_kernel(β, K, simu, description, xm=80, ym=1e-4)"
   ]
  }
 ],
 "metadata": {
  "kernelspec": {
   "display_name": "Python 3",
   "language": "python",
   "name": "python3"
  },
  "language_info": {
   "codemirror_mode": {
    "name": "ipython",
    "version": 3
   },
   "file_extension": ".py",
   "mimetype": "text/x-python",
   "name": "python",
   "nbconvert_exporter": "python",
   "pygments_lexer": "ipython3",
   "version": "3.7.2"
  },
  "nbTranslate": {
   "displayLangs": [
    "en"
   ],
   "hotkey": "alt-t",
   "langInMainMenu": true,
   "sourceLang": "en",
   "targetLang": "fr",
   "useGoogleTranslate": true
  },
  "toc": {
   "base_numbering": 1,
   "nav_menu": {},
   "number_sections": false,
   "sideBar": true,
   "skip_h1_title": true,
   "title_cell": "Table of Contents",
   "title_sidebar": "Contents",
   "toc_cell": false,
   "toc_position": {},
   "toc_section_display": true,
   "toc_window_display": false
  },
  "varInspector": {
   "cols": {
    "lenName": 16,
    "lenType": 16,
    "lenVar": 40
   },
   "kernels_config": {
    "python": {
     "delete_cmd_postfix": "",
     "delete_cmd_prefix": "del ",
     "library": "var_list.py",
     "varRefreshCmd": "print(var_dic_list())"
    },
    "r": {
     "delete_cmd_postfix": ") ",
     "delete_cmd_prefix": "rm(",
     "library": "var_list.r",
     "varRefreshCmd": "cat(var_dic_list()) "
    }
   },
   "types_to_exclude": [
    "module",
    "function",
    "builtin_function_or_method",
    "instance",
    "_Feature"
   ],
   "window_display": false
  }
 },
 "nbformat": 4,
 "nbformat_minor": 2
}
